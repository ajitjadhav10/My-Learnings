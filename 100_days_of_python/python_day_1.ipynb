{
  "nbformat": 4,
  "nbformat_minor": 0,
  "metadata": {
    "colab": {
      "name": "python_day_1.ipynb",
      "provenance": [],
      "authorship_tag": "ABX9TyNhH1SFsUAhaUmu74rgsUyW",
      "include_colab_link": true
    },
    "kernelspec": {
      "name": "python3",
      "display_name": "Python 3"
    },
    "language_info": {
      "name": "python"
    }
  },
  "cells": [
    {
      "cell_type": "markdown",
      "metadata": {
        "id": "view-in-github",
        "colab_type": "text"
      },
      "source": [
        "<a href=\"https://colab.research.google.com/github/ajitjadhav10/My-Learnings/blob/main/100_days_of_python/python_day_1.ipynb\" target=\"_parent\"><img src=\"https://colab.research.google.com/assets/colab-badge.svg\" alt=\"Open In Colab\"/></a>"
      ]
    },
    {
      "cell_type": "markdown",
      "source": [
        "note: Strings are immutable, Lists are immutable"
      ],
      "metadata": {
        "id": "fIJAEKUjLMSk"
      }
    },
    {
      "cell_type": "code",
      "execution_count": null,
      "metadata": {
        "colab": {
          "base_uri": "https://localhost:8080/"
        },
        "id": "XdwlgxAZKokW",
        "outputId": "3d2ad8c5-3035-4c83-bf6e-382d7f2cad5a"
      },
      "outputs": [
        {
          "output_type": "stream",
          "name": "stdout",
          "text": [
            "0,1,1,2,3,5,8,13,21,34,55,89,144,233,377,610,987,"
          ]
        }
      ],
      "source": [
        "#working with strings\n",
        "\n",
        "a,b=0,1\n",
        "\n",
        "while a<1000:\n",
        "  print(a,end=\",\")\n",
        "  a,b=b,a+b\n"
      ]
    },
    {
      "cell_type": "code",
      "source": [
        "#working with if statements\n",
        "\n",
        "x=int(input(\"Enter an integer:\"))\n",
        "\n",
        "if x<0:\n",
        "    x=0\n",
        "    print(\"negative changed to 0\")\n",
        "elif x==0:\n",
        "    print(\"x is zero\")\n",
        "elif x ==1:\n",
        "    print(\"x is one\")\n",
        "else:\n",
        "  print(x)\n",
        "\n",
        "\n"
      ],
      "metadata": {
        "colab": {
          "base_uri": "https://localhost:8080/"
        },
        "id": "j5kTxMbZKv7h",
        "outputId": "2a23dace-a5a5-4641-b68f-cf4a63f8f31e"
      },
      "execution_count": null,
      "outputs": [
        {
          "output_type": "stream",
          "name": "stdout",
          "text": [
            "Enter an integer:-100\n",
            "negative changed to 0\n"
          ]
        }
      ]
    },
    {
      "cell_type": "code",
      "source": [
        "#practicing conditional loops\n",
        "\n",
        "list_1=[]\n",
        "\n",
        "for x in range(2000,4000):\n",
        "  if (x%7==0) and (x%5==0):\n",
        "    list_1.append(str(x))\n",
        "print(','.join(list_1))\n",
        "\n",
        "\n"
      ],
      "metadata": {
        "colab": {
          "base_uri": "https://localhost:8080/"
        },
        "id": "r1UvncH2MT4M",
        "outputId": "cb052c4d-7f62-4dee-a062-614cda47031f"
      },
      "execution_count": null,
      "outputs": [
        {
          "output_type": "stream",
          "name": "stdout",
          "text": [
            "2030,2065,2100,2135,2170,2205,2240,2275,2310,2345,2380,2415,2450,2485,2520,2555,2590,2625,2660,2695,2730,2765,2800,2835,2870,2905,2940,2975,3010,3045,3080,3115,3150,3185,3220,3255,3290,3325,3360,3395,3430,3465,3500,3535,3570,3605,3640,3675,3710,3745,3780,3815,3850,3885,3920,3955,3990\n"
          ]
        }
      ]
    },
    {
      "cell_type": "markdown",
      "source": [
        "Write a Python program to convert temperatures to and from celsius, fahrenheit."
      ],
      "metadata": {
        "id": "VRegbtMEuGOz"
      }
    },
    {
      "cell_type": "code",
      "source": [
        "#https://www.w3resource.com/python-exercises/python-conditional-exercise-2.php\n",
        "\n",
        "\n",
        "temp=input(\"Enter the temperature in fahrenheit or celsius:(eg. 80F or 100F or 25C etc.\")\n",
        "\n",
        "degree=int(temp[:-1])\n",
        "unit=temp[-1]\n",
        "\n",
        "\n",
        "if unit == 'C':\n",
        "  result=((9/5)*degree + 32)\n",
        "  unit_1=\"Fahrenheit\"\n",
        "\n",
        "elif unit == 'F':\n",
        "  result=((5/9)*(degree-32))\n",
        "  unit_1=\"Celsius\"\n",
        "\n",
        "else:\n",
        "  print(\"Enter the temperature in the correct format\")\n",
        "  #quit()\n",
        "\n",
        "print(\"The temperature in\", unit_1,\"is\",result,\"degrees\")"
      ],
      "metadata": {
        "id": "UZAANjnrO_d-",
        "colab": {
          "base_uri": "https://localhost:8080/"
        },
        "outputId": "eba4d05c-b5e5-4aba-bf35-08b9473ace78"
      },
      "execution_count": 2,
      "outputs": [
        {
          "output_type": "stream",
          "name": "stdout",
          "text": [
            "Enter the temperature in fahrenheit or celsius:(eg. 80F or 100F or 25C etc.68F\n",
            "The temperature in Celsius is 20.0 degrees\n"
          ]
        }
      ]
    },
    {
      "cell_type": "code",
      "source": [
        ""
      ],
      "metadata": {
        "id": "sMMs3KKLwWxO"
      },
      "execution_count": null,
      "outputs": []
    }
  ]
}