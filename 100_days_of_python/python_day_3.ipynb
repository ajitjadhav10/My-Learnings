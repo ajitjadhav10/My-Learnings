{
  "nbformat": 4,
  "nbformat_minor": 0,
  "metadata": {
    "colab": {
      "name": "python_day_3.ipynb",
      "provenance": [],
      "authorship_tag": "ABX9TyOaygJg6eCvjm4kSFpSQb5y",
      "include_colab_link": true
    },
    "kernelspec": {
      "name": "python3",
      "display_name": "Python 3"
    },
    "language_info": {
      "name": "python"
    }
  },
  "cells": [
    {
      "cell_type": "markdown",
      "metadata": {
        "id": "view-in-github",
        "colab_type": "text"
      },
      "source": [
        "<a href=\"https://colab.research.google.com/github/ajitjadhav10/My-Learnings/blob/main/100_days_of_python/python_day_3.ipynb\" target=\"_parent\"><img src=\"https://colab.research.google.com/assets/colab-badge.svg\" alt=\"Open In Colab\"/></a>"
      ]
    },
    {
      "cell_type": "code",
      "execution_count": 1,
      "metadata": {
        "colab": {
          "base_uri": "https://localhost:8080/"
        },
        "id": "MM9dOA1RjD7m",
        "outputId": "829ce9ad-cdd3-4be0-a02e-dedef9dc5c29"
      },
      "outputs": [
        {
          "output_type": "stream",
          "name": "stdout",
          "text": [
            "My name is John, and I am 36 and I'm 6 feet tall\n"
          ]
        }
      ],
      "source": [
        "age = 36\n",
        "height=6\n",
        "txt = \"My name is John, and I am {} and I'm {} feet tall\"\n",
        "print(txt.format(age,height))"
      ]
    },
    {
      "cell_type": "code",
      "source": [
        "txt =\"We are the so-called \\\"Vikings\\\" from the north.\"\n",
        "print(txt)"
      ],
      "metadata": {
        "colab": {
          "base_uri": "https://localhost:8080/"
        },
        "id": "K13zMKibkKoJ",
        "outputId": "6f626e68-3d6b-440d-8e1f-7e6c7ff885cf"
      },
      "execution_count": 5,
      "outputs": [
        {
          "output_type": "stream",
          "name": "stdout",
          "text": [
            "We are the so-called \"Vikings\" from the north.\n"
          ]
        }
      ]
    },
    {
      "cell_type": "code",
      "source": [
        ""
      ],
      "metadata": {
        "id": "9mnhFG3zkotn"
      },
      "execution_count": null,
      "outputs": []
    }
  ]
}