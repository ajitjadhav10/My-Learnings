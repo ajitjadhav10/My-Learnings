{
  "nbformat": 4,
  "nbformat_minor": 0,
  "metadata": {
    "colab": {
      "name": "python_day_2.ipynb",
      "provenance": [],
      "authorship_tag": "ABX9TyN8ffEi7TJc/CEZEk5Ss7rA",
      "include_colab_link": true
    },
    "kernelspec": {
      "name": "python3",
      "display_name": "Python 3"
    },
    "language_info": {
      "name": "python"
    }
  },
  "cells": [
    {
      "cell_type": "markdown",
      "metadata": {
        "id": "view-in-github",
        "colab_type": "text"
      },
      "source": [
        "<a href=\"https://colab.research.google.com/github/ajitjadhav10/My-Learnings/blob/main/100_days_of_python/python_day_2.ipynb\" target=\"_parent\"><img src=\"https://colab.research.google.com/assets/colab-badge.svg\" alt=\"Open In Colab\"/></a>"
      ]
    },
    {
      "cell_type": "markdown",
      "source": [
        "Write a Python program to count the number of even and odd numbers from a series of numbers."
      ],
      "metadata": {
        "id": "Ma8ZOmnIZxbr"
      }
    },
    {
      "cell_type": "code",
      "execution_count": 5,
      "metadata": {
        "colab": {
          "base_uri": "https://localhost:8080/"
        },
        "id": "X0sCoaD3YDuS",
        "outputId": "b68f3119-2b53-444a-a1f2-908d68ba877c"
      },
      "outputs": [
        {
          "output_type": "stream",
          "name": "stdout",
          "text": [
            "The number of even numbers is: 8\n",
            "The number of odd numbers is: 9\n"
          ]
        }
      ],
      "source": [
        "#Counting the number of odd and even numbers in the tuple\n",
        "\n",
        "numbers=(1,2,3,4,5,6,7,8,9,10,11,12,13,14,15,16,17)\n",
        "count_even=0\n",
        "count_odd=0\n",
        "\n",
        "\n",
        "for x in numbers:\n",
        "  if x%2==0:\n",
        "    count_even=1+count_even\n",
        "  else:\n",
        "    count_odd=1+count_odd\n",
        "\n",
        "# for x in numbers:\n",
        "#   if x%2!=0:\n",
        "#     count_odd=1+count_odd\n",
        "\n",
        "print(\"The number of even numbers is:\",count_even)\n",
        "print(\"The number of odd numbers is:\",count_odd)"
      ]
    },
    {
      "cell_type": "code",
      "source": [
        "n=5\n",
        "\n",
        "for i in range(n):\n",
        "  for j in range(i):\n",
        "    print(\"* \",end=\"\")\n",
        "  print(\"\")\n",
        "\n",
        "# for i in range(n,1,-1):\n",
        "#     for j in range(i):\n",
        "#         print('* ', end=\"\")\n",
        "#     print('')\n",
        "\t"
      ],
      "metadata": {
        "colab": {
          "base_uri": "https://localhost:8080/"
        },
        "id": "XYixh79cZDKT",
        "outputId": "1056c939-29c6-4ab3-a838-13d980a4816f"
      },
      "execution_count": 17,
      "outputs": [
        {
          "output_type": "stream",
          "name": "stdout",
          "text": [
            "\n",
            "* \n",
            "* * \n",
            "* * * \n",
            "* * * * \n"
          ]
        }
      ]
    },
    {
      "cell_type": "code",
      "source": [
        ""
      ],
      "metadata": {
        "id": "JKFMt3nxcIIJ"
      },
      "execution_count": null,
      "outputs": []
    }
  ]
}