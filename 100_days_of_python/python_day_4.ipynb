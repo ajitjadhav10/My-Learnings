{
  "nbformat": 4,
  "nbformat_minor": 0,
  "metadata": {
    "colab": {
      "name": "python_day_4.ipynb",
      "provenance": [],
      "authorship_tag": "ABX9TyO7qdB/jCIpWvmkrX1G2/DR",
      "include_colab_link": true
    },
    "kernelspec": {
      "name": "python3",
      "display_name": "Python 3"
    },
    "language_info": {
      "name": "python"
    }
  },
  "cells": [
    {
      "cell_type": "markdown",
      "metadata": {
        "id": "view-in-github",
        "colab_type": "text"
      },
      "source": [
        "<a href=\"https://colab.research.google.com/github/ajitjadhav10/My-Learnings/blob/main/100_days_of_python/python_day_4.ipynb\" target=\"_parent\"><img src=\"https://colab.research.google.com/assets/colab-badge.svg\" alt=\"Open In Colab\"/></a>"
      ]
    },
    {
      "cell_type": "markdown",
      "source": [
        "Understanding the logic behind printing a pattern\n"
      ],
      "metadata": {
        "id": "OtU6PhHHltyu"
      }
    },
    {
      "cell_type": "code",
      "execution_count": 14,
      "metadata": {
        "colab": {
          "base_uri": "https://localhost:8080/"
        },
        "id": "xplTI2a8lKWo",
        "outputId": "9108d902-9ec8-4c03-d735-e7ade434efe1"
      },
      "outputs": [
        {
          "output_type": "stream",
          "name": "stdout",
          "text": [
            "# \n",
            "# # \n",
            "# # # \n",
            "# # # # \n",
            "# # # # # \n",
            "# # # # # \n",
            "# # # # \n",
            "# # # \n",
            "# # \n",
            "# \n"
          ]
        }
      ],
      "source": [
        "for i in range (5): #i represents the number of rows\n",
        "  for j in range (i+1): #j represents the number of columns, from the pattern we can see that when i=0, the row has one #, and when i=1, the row has two # and so on.\n",
        "    print(\"# \",end=\"\")\n",
        "  print()\n",
        "\n",
        "for i in range (5):\n",
        "  for j in range (5-i): \n",
        "    print(\"# \",end=\"\")\n",
        "  print()"
      ]
    },
    {
      "cell_type": "code",
      "source": [
        ""
      ],
      "metadata": {
        "id": "dlp8yYBjmLdK"
      },
      "execution_count": null,
      "outputs": []
    }
  ]
}